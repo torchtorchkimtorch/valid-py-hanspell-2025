{
 "cells": [
  {
   "cell_type": "code",
   "execution_count": 1,
   "id": "2cf5afe5",
   "metadata": {},
   "outputs": [
    {
     "ename": "KeyError",
     "evalue": "'result'",
     "output_type": "error",
     "traceback": [
      "\u001b[31m---------------------------------------------------------------------------\u001b[39m",
      "\u001b[31mKeyError\u001b[39m                                  Traceback (most recent call last)",
      "\u001b[36mCell\u001b[39m\u001b[36m \u001b[39m\u001b[32mIn[1]\u001b[39m\u001b[32m, line 2\u001b[39m\n\u001b[32m      1\u001b[39m \u001b[38;5;28;01mfrom\u001b[39;00m\u001b[38;5;250m \u001b[39m\u001b[34;01mhanspell\u001b[39;00m\u001b[38;5;250m \u001b[39m\u001b[38;5;28;01mimport\u001b[39;00m spell_checker\n\u001b[32m----> \u001b[39m\u001b[32m2\u001b[39m \u001b[43mspell_checker\u001b[49m\u001b[43m.\u001b[49m\u001b[43mcheck\u001b[49m\u001b[43m(\u001b[49m\u001b[43m[\u001b[49m\u001b[33;43mu\u001b[39;49m\u001b[33;43m'\u001b[39;49m\u001b[33;43m안녕 하세요.\u001b[39;49m\u001b[33;43m'\u001b[39;49m\u001b[43m,\u001b[49m\u001b[43m \u001b[49m\u001b[33;43mu\u001b[39;49m\u001b[33;43m'\u001b[39;49m\u001b[33;43m저는 한국인 입니다.\u001b[39;49m\u001b[33;43m'\u001b[39;49m\u001b[43m]\u001b[49m\u001b[43m)\u001b[49m\n",
      "\u001b[36mFile \u001b[39m\u001b[32m/data_x/mhkim0929/PANGA-RM/py-hanspell/hanspell/spell_checker.py:39\u001b[39m, in \u001b[36mcheck\u001b[39m\u001b[34m(text)\u001b[39m\n\u001b[32m     37\u001b[39m result = []\n\u001b[32m     38\u001b[39m \u001b[38;5;28;01mfor\u001b[39;00m item \u001b[38;5;129;01min\u001b[39;00m text:\n\u001b[32m---> \u001b[39m\u001b[32m39\u001b[39m     checked = \u001b[43mcheck\u001b[49m\u001b[43m(\u001b[49m\u001b[43mitem\u001b[49m\u001b[43m)\u001b[49m\n\u001b[32m     40\u001b[39m     result.append(checked)\n\u001b[32m     41\u001b[39m \u001b[38;5;28;01mreturn\u001b[39;00m result\n",
      "\u001b[36mFile \u001b[39m\u001b[32m/data_x/mhkim0929/PANGA-RM/py-hanspell/hanspell/spell_checker.py:62\u001b[39m, in \u001b[36mcheck\u001b[39m\u001b[34m(text)\u001b[39m\n\u001b[32m     59\u001b[39m passed_time = time.time() - start_time\n\u001b[32m     61\u001b[39m data = json.loads(r.text)\n\u001b[32m---> \u001b[39m\u001b[32m62\u001b[39m html = \u001b[43mdata\u001b[49m\u001b[43m[\u001b[49m\u001b[33;43m'\u001b[39;49m\u001b[33;43mmessage\u001b[39;49m\u001b[33;43m'\u001b[39;49m\u001b[43m]\u001b[49m\u001b[43m[\u001b[49m\u001b[33;43m'\u001b[39;49m\u001b[33;43mresult\u001b[39;49m\u001b[33;43m'\u001b[39;49m\u001b[43m]\u001b[49m[\u001b[33m'\u001b[39m\u001b[33mhtml\u001b[39m\u001b[33m'\u001b[39m]\n\u001b[32m     63\u001b[39m result = {\n\u001b[32m     64\u001b[39m     \u001b[33m'\u001b[39m\u001b[33mresult\u001b[39m\u001b[33m'\u001b[39m: \u001b[38;5;28;01mTrue\u001b[39;00m,\n\u001b[32m     65\u001b[39m     \u001b[33m'\u001b[39m\u001b[33moriginal\u001b[39m\u001b[33m'\u001b[39m: text,\n\u001b[32m   (...)\u001b[39m\u001b[32m     69\u001b[39m     \u001b[33m'\u001b[39m\u001b[33mwords\u001b[39m\u001b[33m'\u001b[39m: OrderedDict(),\n\u001b[32m     70\u001b[39m }\n\u001b[32m     72\u001b[39m \u001b[38;5;66;03m# 띄어쓰기로 구분하기 위해 태그는 일단 보기 쉽게 바꿔둠.\u001b[39;00m\n\u001b[32m     73\u001b[39m \u001b[38;5;66;03m# ElementTree의 iter()를 써서 더 좋게 할 수 있는 방법이 있지만\u001b[39;00m\n\u001b[32m     74\u001b[39m \u001b[38;5;66;03m# 이 짧은 코드에 굳이 그렇게 할 필요성이 없으므로 일단 문자열을 치환하는 방법으로 작성.\u001b[39;00m\n",
      "\u001b[31mKeyError\u001b[39m: 'result'"
     ]
    }
   ],
   "source": [
    "from hanspell import spell_checker\n",
    "spell_checker.check([u'안녕 하세요.', u'저는 한국인 입니다.'])"
   ]
  }
 ],
 "metadata": {
  "kernelspec": {
   "display_name": "PANGA-RM",
   "language": "python",
   "name": "python3"
  },
  "language_info": {
   "codemirror_mode": {
    "name": "ipython",
    "version": 3
   },
   "file_extension": ".py",
   "mimetype": "text/x-python",
   "name": "python",
   "nbconvert_exporter": "python",
   "pygments_lexer": "ipython3",
   "version": "3.11.5"
  }
 },
 "nbformat": 4,
 "nbformat_minor": 5
}
